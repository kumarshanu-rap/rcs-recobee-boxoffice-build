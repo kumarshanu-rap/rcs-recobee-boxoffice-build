{
 "cells": [
  {
   "cell_type": "markdown",
   "id": "e7cc8fb6-ce65-4865-950f-11f2ca6fb5a5",
   "metadata": {},
   "source": [
    "### 1. Import Pipeline Packages"
   ]
  },
  {
   "cell_type": "code",
   "execution_count": null,
   "id": "df779759-9d70-4f1f-81d0-b91151cbfa4e",
   "metadata": {},
   "outputs": [],
   "source": [
    "import io\n",
    "import json\n",
    "import os\n",
    "import tarfile\n",
    "\n",
    "import boto3\n",
    "import sagemaker\n",
    "from sagemaker import image_uris\n",
    "from sagemaker.inputs import TrainingInput\n",
    "from sagemaker.model import Model\n",
    "from sagemaker.model_metrics import MetricsSource, ModelMetrics\n",
    "from sagemaker.processing import ProcessingInput, ProcessingOutput, ScriptProcessor\n",
    "from sagemaker.sklearn.estimator import SKLearn\n",
    "from sagemaker.workflow.condition_step import ConditionStep\n",
    "from sagemaker.workflow.conditions import ConditionLessThanOrEqualTo\n",
    "from sagemaker.workflow.fail_step import FailStep\n",
    "from sagemaker.workflow.functions import Join, JsonGet\n",
    "from sagemaker.workflow.parameters import (\n",
    "    ParameterFloat,\n",
    "    ParameterInteger,\n",
    "    ParameterString,\n",
    ")\n",
    "from sagemaker.workflow.pipeline import Pipeline\n",
    "from sagemaker.workflow.properties import PropertyFile\n",
    "from sagemaker.workflow.step_collections import RegisterModel\n",
    "from sagemaker.workflow.steps import ProcessingStep, TrainingStep\n"
   ]
  },
  {
   "cell_type": "code",
   "execution_count": null,
   "id": "951e0117-74af-4cc9-bfeb-ec9133c63b8e",
   "metadata": {},
   "outputs": [],
   "source": [
    "def get_session(region, default_bucket):\n",
    "    \"\"\"Get the sagemaker session based on the region.\n",
    "\n",
    "    Args:\n",
    "        region: the aws region to start the session\n",
    "        default_bucket: the bucket to use for storing the artifacts\n",
    "    Returns:\n",
    "        `sagemaker.session.Session` instance\n",
    "\n",
    "    \"\"\"\n",
    "    boto_session = boto3.Session(region_name=region)\n",
    "\n",
    "    sagemaker_client = boto_session.client(\"sagemaker\")\n",
    "    runtime_client = boto_session.client(\"sagemaker-runtime\")\n",
    "    return sagemaker.session.Session(\n",
    "        boto_session=boto_session,\n",
    "        sagemaker_client=sagemaker_client,\n",
    "        sagemaker_runtime_client=runtime_client,\n",
    "        default_bucket=default_bucket,\n",
    "    )\n"
   ]
  },
  {
   "cell_type": "markdown",
   "id": "fed33941-e4b1-4e55-9c27-8ba16aa220bd",
   "metadata": {},
   "source": [
    "### 2. Define Pipeline variables"
   ]
  },
  {
   "cell_type": "code",
   "execution_count": null,
   "id": "9a1ffb5e-8989-4820-96bc-736ab985f6a2",
   "metadata": {},
   "outputs": [],
   "source": [
    "BASE_DIR = \".\"\n",
    "default_bucket = \"rcs-recobee\"  # Bucket path\n",
    "prefix = \"recobee-boxoffice\"\n",
    "source_dir = f\"{prefix}-Train\"\n",
    "region = \"ap-south-1\"\n",
    "base_job_prefix = \"forecast\"\n",
    "model_package_group_name = \"boxoffice-forecastmodel\"\n",
    "pipeline_name = \"recobee-boxoffice-forecast-Pipeline\"\n",
    "\n",
    "train_s3_uri = (\n",
    "    \"s3://rcs-recobee/boxoffice_forcasting/train.csv\"\n",
    ")\n",
    "\n",
    "sagemaker_session = get_session(region, default_bucket)\n",
    "role = sagemaker.session.get_execution_role(sagemaker_session)"
   ]
  },
  {
   "cell_type": "code",
   "execution_count": null,
   "id": "7998f13f-d0e3-4bce-93e7-f7822eafbe35",
   "metadata": {},
   "outputs": [],
   "source": [
    "# Defining some paramter from pipeline with some default values\n",
    "\n",
    "processing_instance_count = ParameterInteger(\n",
    "    name=\"ProcessingInstanceCount\", default_value=1\n",
    ")\n",
    "processing_instance_type = ParameterString(\n",
    "    name=\"ProcessingInstanceType\", default_value=\"ml.m5.2xlarge\"\n",
    ")\n",
    "training_instance_count = ParameterInteger(\n",
    "    name=\"TrainingInstanceCount\", default_value=1\n",
    ")\n",
    "training_instance_type = ParameterString(\n",
    "    name=\"TrainingInstanceType\", default_value=\"ml.m5.2xlarge\"\n",
    ")\n",
    "model_approve_status = ParameterString(\n",
    "    name=\"ModelApproveStatus\", default_value=\"PendingManualApproval\"\n",
    ")\n",
    "train_data = ParameterString(name=\"TrainData\", default_value=train_s3_uri)\n",
    "acc_threshold = ParameterFloat(name=\"AccThreshold\", default_value=0.80)\n",
    "n_estimator = ParameterInteger(name=\"ModelNEstimator\", default_value=12)\n"
   ]
  },
  {
   "cell_type": "markdown",
   "id": "3330a630-7cf5-498c-b4ca-888fc8c3d5bc",
   "metadata": {},
   "source": [
    "### 3. Define Processing - process.py"
   ]
  },
  {
   "cell_type": "code",
   "execution_count": null,
   "id": "05a4205b-59f6-4411-abd0-717421bd0784",
   "metadata": {},
   "outputs": [
    {
     "name": "stderr",
     "output_type": "stream",
     "text": [
      "INFO:sagemaker.image_uris:Defaulting to only available Python version: py3\n",
      "INFO:sagemaker.image_uris:Defaulting to only supported image scope: cpu.\n"
     ]
    }
   ],
   "source": [
    "# Step 1: Processing Step\n",
    "sklearn_image_uri = image_uris.retrieve(\"sklearn\", region, \"1.2-1\")\n",
    "script_processor = ScriptProcessor(\n",
    "    image_uri=sklearn_image_uri,\n",
    "    command=[\"python3\"],\n",
    "    instance_type=processing_instance_type,\n",
    "    instance_count=processing_instance_count,\n",
    "    base_job_name=base_job_prefix + \"-Process\",\n",
    "    role=role,\n",
    ")\n",
    "\n",
    "dest_prefix = f\"s3://{default_bucket}/{prefix}/train\"\n",
    "step_process = ProcessingStep(\n",
    "    name=base_job_prefix + \"-Process\",\n",
    "    processor=script_processor,\n",
    "    outputs=[\n",
    "        ProcessingOutput(\n",
    "            output_name=\"train\",\n",
    "            source=\"/opt/ml/processing/train\",\n",
    "            destination=dest_prefix,\n",
    "        ),\n",
    "    ],\n",
    "    code=os.path.join(BASE_DIR, \"processing.py\"),\n",
    "    job_arguments=[\"--train_s3_uri\", train_s3_uri,],\n",
    ")"
   ]
  },
  {
   "cell_type": "markdown",
   "id": "41051b1b-800e-4426-9067-be5ef065c514",
   "metadata": {},
   "source": [
    "### 4. Define Training Step - train.py"
   ]
  },
  {
   "cell_type": "code",
   "execution_count": null,
   "id": "8452d0cb-8a26-407e-a14e-6ee48e61c72f",
   "metadata": {},
   "outputs": [
    {
     "name": "stderr",
     "output_type": "stream",
     "text": [
      "WARNING:sagemaker:instance_type is a PipelineVariable (<class 'sagemaker.workflow.parameters.ParameterString'>). Its interpreted value in execution time should not be of GPU types since GPU training is not supported for Scikit-Learn.\n"
     ]
    }
   ],
   "source": [
    "# Initialize a bytes buffer to hold the tarball in memory\n",
    "memory_buffer = io.BytesIO()\n",
    "\n",
    "# Create the tar.gz file in memory\n",
    "with tarfile.open(fileobj=memory_buffer, mode=\"w:gz\") as tar:\n",
    "    # Add the train.py file (or other necessary files) to the tarball\n",
    "    tar.add(os.path.join(BASE_DIR, \"train.py\"), arcname=\"train.py\")\n",
    "\n",
    "# After creating the tarball in memory, reset the buffer's position to the beginning\n",
    "memory_buffer.seek(0)\n",
    "\n",
    "# Upload the tarball directly to S3\n",
    "s3_client = boto3.client(\"s3\")\n",
    "s3_path = f\"{prefix}/{source_dir}/sourcedir.tar.gz\"\n",
    "\n",
    "# Upload to S3 from memory buffer\n",
    "s3_client.upload_fileobj(memory_buffer, default_bucket, s3_path)\n",
    "\n",
    "source_dir_uri = f\"s3://{default_bucket}/{s3_path}\"\n",
    "\n",
    "model_path = f\"s3://{default_bucket}/{prefix}/ModelArtifacts\"\n",
    "sklearn_estimator = SKLearn(\n",
    "    entry_point=\"train.py\",  # Training script\n",
    "    role=role,\n",
    "    source_dir=source_dir_uri,\n",
    "    image_uri=sklearn_image_uri,\n",
    "    instance_count=1,\n",
    "    instance_type=training_instance_type,\n",
    "    output_path=model_path,\n",
    "    hyperparameters={\"n_estimator\": n_estimator},\n",
    ")\n",
    "\n",
    "step_train = TrainingStep(\n",
    "    name=base_job_prefix + \"-Train\",\n",
    "    estimator=sklearn_estimator,\n",
    "    inputs={\n",
    "        \"train\": TrainingInput(\n",
    "            s3_data=step_process.properties.ProcessingOutputConfig.Outputs[\n",
    "                \"train\"\n",
    "            ].S3Output.S3Uri,\n",
    "            s3_data_type=\"S3Prefix\",\n",
    "        ),\n",
    "    },\n",
    ")\n"
   ]
  },
  {
   "cell_type": "markdown",
   "id": "b2d21c34-19da-4a14-9431-5ee75319db94",
   "metadata": {},
   "source": [
    "### 5. Define Evaluation Step - evaluation.py"
   ]
  },
  {
   "cell_type": "code",
   "execution_count": null,
   "id": "be594b23-7177-41c3-bb46-b9d56c10a086",
   "metadata": {},
   "outputs": [],
   "source": [
    "script_eval = ScriptProcessor(\n",
    "    image_uri=sklearn_image_uri,\n",
    "    command=[\"python3\"],\n",
    "    instance_type=processing_instance_type,\n",
    "    instance_count=processing_instance_count,\n",
    "    base_job_name=base_job_prefix + \"-Eval\",\n",
    "    role=role,\n",
    ")\n",
    "\n",
    "evaluation_report = PropertyFile(\n",
    "    name=\"EvaluationReport\", output_name=\"evaluation\", path=\"evaluation.json\"\n",
    ")\n",
    "\n",
    "step_eval = ProcessingStep(\n",
    "    name=base_job_prefix + \"-Eval\",\n",
    "    processor=script_eval,\n",
    "    inputs=[\n",
    "        ProcessingInput(\n",
    "            source=step_train.properties.ModelArtifacts.S3ModelArtifacts,\n",
    "            destination=\"/opt/ml/processing/model\",\n",
    "        ),\n",
    "    ],\n",
    "    outputs=[\n",
    "        ProcessingOutput(\n",
    "            output_name=\"evaluation\", source=\"/opt/ml/processing/evaluation\"\n",
    "        )\n",
    "    ],\n",
    "    code=os.path.join(BASE_DIR, \"evaluation.py\"),\n",
    "    job_arguments=[\"--test\", train_s3_uri],\n",
    "    property_files=[evaluation_report],\n",
    ")"
   ]
  },
  {
   "cell_type": "markdown",
   "id": "2b1a280b-f090-424d-a7c8-e709dc40548e",
   "metadata": {},
   "source": [
    "### 6. Registering the model based on the condition"
   ]
  },
  {
   "cell_type": "code",
   "execution_count": null,
   "id": "b55aec72-375e-499f-a32a-a55d232d31ca",
   "metadata": {},
   "outputs": [
    {
     "name": "stderr",
     "output_type": "stream",
     "text": [
      "WARNING:sagemaker.workflow.utilities:Popping out 'ProcessingJobName' from the pipeline definition by default since it will be overridden at pipeline execution time. Please utilize the PipelineDefinitionConfig to persist this field in the pipeline definition if desired.\n"
     ]
    }
   ],
   "source": [
    "model_metrics = ModelMetrics(\n",
    "    model_statistics=MetricsSource(\n",
    "        s3_uri=\"{}/evaluation.json\".format(\n",
    "            step_eval.arguments[\"ProcessingOutputConfig\"][\"Outputs\"][0][\"S3Output\"][\n",
    "                \"S3Uri\"\n",
    "            ]\n",
    "        ),\n",
    "        content_type=\"application/json\",\n",
    "    )\n",
    ")\n",
    "\n",
    "environment_variables = {\n",
    "    \"SAGEMAKER_SUBMIT_DIRECTORY\": source_dir_uri,\n",
    "    \"SAGEMAKER_PROGRAM\": \"train.py\",\n",
    "    \"SAGEMAKER_CONTAINER_LOG_LEVEL\": \"20\",  # Optional: Log level\n",
    "    \"SAGEMAKER_REGION\": region,\n",
    "}\n",
    "\n",
    "sagemaker_model = Model(\n",
    "    image_uri=sklearn_image_uri,\n",
    "    model_data=step_train.properties.ModelArtifacts.S3ModelArtifacts,\n",
    "    role=role,\n",
    "    sagemaker_session=sagemaker_session,\n",
    "    env=environment_variables,\n",
    ")\n",
    "\n",
    "step_register = RegisterModel(\n",
    "    name=f\"{base_job_prefix}\",\n",
    "    model=sagemaker_model,  # training estimator,\n",
    "    model_data=step_train.properties.ModelArtifacts.S3ModelArtifacts,\n",
    "    content_types=[\"text/csv\"],\n",
    "    response_types=[\"text/csv\"],\n",
    "    inference_instances=[\n",
    "        \"ml.m4.2xlarge\",\n",
    "        \"ml.m4.4xlarge\",\n",
    "        \"ml.m5.large\",\n",
    "        \"ml.m5.xlarge\",\n",
    "        \"ml.m5.2xlarge\",\n",
    "        \"ml.m5.4xlarge\",\n",
    "        \"ml.c4.large\",\n",
    "        \"ml.c4.xlarge\",\n",
    "        \"ml.c4.2xlarge\",\n",
    "        \"ml.c4.4xlarge\",\n",
    "    ],\n",
    "    transform_instances=[\"ml.m5.xlarge\"],\n",
    "    model_package_group_name=model_package_group_name,\n",
    "    approval_status=model_approve_status,\n",
    "    model_metrics=model_metrics,\n",
    ")"
   ]
  },
  {
   "cell_type": "markdown",
   "id": "02420e3a-7ac0-440e-b051-50951f44f85d",
   "metadata": {},
   "source": [
    "### 7. Model register condition step"
   ]
  },
  {
   "cell_type": "code",
   "execution_count": null,
   "id": "c1cf1f3d-d6b8-43a2-9832-91e9d8d7b37a",
   "metadata": {},
   "outputs": [],
   "source": [
    "# Registering the fail step\n",
    "step_fail = FailStep(\n",
    "    name=base_job_prefix + \"-ACC_Fail\",\n",
    "    error_message=Join(\n",
    "        on=\" \", values=[\"Execution failed due to < Accuracy\", acc_threshold]\n",
    "    ),\n",
    ")\n",
    "\n",
    "cond_lte = ConditionLessThanOrEqualTo(\n",
    "    right=JsonGet(\n",
    "        step_name=step_eval.name,\n",
    "        property_file=evaluation_report,\n",
    "        # getting evaluation data from property file, which has evaluation.json file containing metrics data, property file here used to store data in pipeline it self, otherwise we have to read evaluation json file's metrics from s3 bucket. but this one directy store that data from evalaution step to property file\n",
    "        json_path=\"regression_metrics.r2.value\",  # getting that metrics data which is store as json(dict)\n",
    "    ),\n",
    "    left=acc_threshold,\n",
    ")\n",
    "\n",
    "step_cond = ConditionStep(\n",
    "    name=base_job_prefix + \"-ACC_Cond\",\n",
    "    conditions=[cond_lte],\n",
    "    if_steps=[step_register],\n",
    "    else_steps=[step_fail],\n",
    ")\n",
    "# Pipeline Definition\n"
   ]
  },
  {
   "cell_type": "markdown",
   "id": "60a54b5f-17cc-4505-8d81-2df4ce3bc10d",
   "metadata": {},
   "source": [
    "### 8. Define and trigger pipeline"
   ]
  },
  {
   "cell_type": "code",
   "execution_count": null,
   "id": "7b1e81e9-b98c-42a7-b36e-5fc58bedb449",
   "metadata": {},
   "outputs": [],
   "source": [
    "pipeline = Pipeline(\n",
    "    name=pipeline_name,\n",
    "    parameters=[\n",
    "        processing_instance_count,\n",
    "        processing_instance_type,\n",
    "        training_instance_count,\n",
    "        training_instance_type,\n",
    "        model_approve_status,\n",
    "        train_s3_uri,\n",
    "        acc_threshold,\n",
    "        n_estimator,\n",
    "    ],\n",
    "    steps=[step_process, step_train, step_eval, step_cond],\n",
    ")"
   ]
  },
  {
   "cell_type": "code",
   "execution_count": 74,
   "id": "2e453d8c-761e-473b-b75d-0dc856aa40d7",
   "metadata": {
    "scrolled": true
   },
   "outputs": [
    {
     "name": "stderr",
     "output_type": "stream",
     "text": [
      "WARNING:sagemaker.workflow.utilities:Popping out 'ProcessingJobName' from the pipeline definition by default since it will be overridden at pipeline execution time. Please utilize the PipelineDefinitionConfig to persist this field in the pipeline definition if desired.\n",
      "WARNING:sagemaker.workflow.utilities:The input argument instance_type of function (sagemaker.image_uris.get_training_image_uri) is a pipeline variable (<class 'sagemaker.workflow.parameters.ParameterString'>), which is interpreted in pipeline execution time only. As the function needs to evaluate the argument value in SDK compile time, the default_value of this Parameter object will be used to override it. Please make sure the default_value is valid.\n",
      "WARNING:sagemaker.workflow.utilities:The input argument instance_type of function (sagemaker.image_uris.get_training_image_uri) is a pipeline variable (<class 'sagemaker.workflow.parameters.ParameterString'>), which is interpreted in pipeline execution time only. As the function needs to evaluate the argument value in SDK compile time, the default_value of this Parameter object will be used to override it. Please make sure the default_value is valid.\n",
      "WARNING:sagemaker.workflow.utilities:Popping out 'TrainingJobName' from the pipeline definition by default since it will be overridden at pipeline execution time. Please utilize the PipelineDefinitionConfig to persist this field in the pipeline definition if desired.\n",
      "WARNING:sagemaker.workflow.utilities:Popping out 'ProcessingJobName' from the pipeline definition by default since it will be overridden at pipeline execution time. Please utilize the PipelineDefinitionConfig to persist this field in the pipeline definition if desired.\n",
      "WARNING:sagemaker.workflow._utils:Popping out 'CertifyForMarketplace' from the pipeline definition since it will be overridden in pipeline execution time.\n",
      "WARNING:sagemaker.workflow.utilities:Popping out 'ModelPackageName' from the pipeline definition by default since it will be overridden at pipeline execution time. Please utilize the PipelineDefinitionConfig to persist this field in the pipeline definition if desired.\n"
     ]
    },
    {
     "data": {
      "text/plain": [
       "{'Version': '2020-12-01',\n",
       " 'Metadata': {},\n",
       " 'Parameters': [{'Name': 'ProcessingInstanceCount',\n",
       "   'Type': 'Integer',\n",
       "   'DefaultValue': 1},\n",
       "  {'Name': 'ProcessingInstanceType',\n",
       "   'Type': 'String',\n",
       "   'DefaultValue': 'ml.m5.2xlarge'},\n",
       "  {'Name': 'TrainingInstanceCount', 'Type': 'Integer', 'DefaultValue': 1},\n",
       "  {'Name': 'TrainingInstanceType',\n",
       "   'Type': 'String',\n",
       "   'DefaultValue': 'ml.m5.2xlarge'},\n",
       "  {'Name': 'ModelApproveStatus',\n",
       "   'Type': 'String',\n",
       "   'DefaultValue': 'PendingManualApproval'},\n",
       "  {'Name': 'AccThreshold', 'Type': 'Float', 'DefaultValue': 0.8},\n",
       "  {'Name': 'ModelNEstimator', 'Type': 'Integer', 'DefaultValue': 12}],\n",
       " 'PipelineExperimentConfig': {'ExperimentName': {'Get': 'Execution.PipelineName'},\n",
       "  'TrialName': {'Get': 'Execution.PipelineExecutionId'}},\n",
       " 'Steps': [{'Name': 'forecast-Process',\n",
       "   'Type': 'Processing',\n",
       "   'Arguments': {'ProcessingResources': {'ClusterConfig': {'InstanceType': {'Get': 'Parameters.ProcessingInstanceType'},\n",
       "      'InstanceCount': {'Get': 'Parameters.ProcessingInstanceCount'},\n",
       "      'VolumeSizeInGB': 30}},\n",
       "    'AppSpecification': {'ImageUri': '720646828776.dkr.ecr.ap-south-1.amazonaws.com/sagemaker-scikit-learn:1.2-1-cpu-py3',\n",
       "     'ContainerArguments': ['--train_s3_uri',\n",
       "      's3://rcs-pink-paper-sagemaker/rossmann-sales-forecasting/train/train.csv',\n",
       "      '--store_s3_uri',\n",
       "      's3://rcs-pink-paper-sagemaker/rossmann-sales-forecasting/train/store.csv'],\n",
       "     'ContainerEntrypoint': ['python3',\n",
       "      '/opt/ml/processing/input/code/processing.py']},\n",
       "    'RoleArn': 'arn:aws:iam::565393061244:role/service-role/AmazonSageMaker-ExecutionRole-20250520T171562',\n",
       "    'ProcessingInputs': [{'InputName': 'code',\n",
       "      'AppManaged': False,\n",
       "      'S3Input': {'S3Uri': 's3://sagemaker-ap-south-1-565393061244/forecast-Process-6e590fec72c48f37a2dac23610df52d71f8a9d61b99e86170e197173ebd09719/input/code/processing.py',\n",
       "       'LocalPath': '/opt/ml/processing/input/code',\n",
       "       'S3DataType': 'S3Prefix',\n",
       "       'S3InputMode': 'File',\n",
       "       'S3DataDistributionType': 'FullyReplicated',\n",
       "       'S3CompressionType': 'None'}}],\n",
       "    'ProcessingOutputConfig': {'Outputs': [{'OutputName': 'train',\n",
       "       'AppManaged': False,\n",
       "       'S3Output': {'S3Uri': 's3://rcs-pink-paper-sagemaker/PPP-Forecast-MLOPs/train',\n",
       "        'LocalPath': '/opt/ml/processing/train',\n",
       "        'S3UploadMode': 'EndOfJob'}}]}}},\n",
       "  {'Name': 'forecast-Train',\n",
       "   'Type': 'Training',\n",
       "   'Arguments': {'AlgorithmSpecification': {'TrainingInputMode': 'File',\n",
       "     'TrainingImage': '720646828776.dkr.ecr.ap-south-1.amazonaws.com/sagemaker-scikit-learn:1.2-1-cpu-py3'},\n",
       "    'OutputDataConfig': {'S3OutputPath': 's3://rcs-pink-paper-sagemaker/PPP-Forecast-MLOPs/ModelArtifacts'},\n",
       "    'StoppingCondition': {'MaxRuntimeInSeconds': 86400},\n",
       "    'ResourceConfig': {'VolumeSizeInGB': 30,\n",
       "     'InstanceCount': 1,\n",
       "     'InstanceType': {'Get': 'Parameters.TrainingInstanceType'}},\n",
       "    'RoleArn': 'arn:aws:iam::565393061244:role/service-role/AmazonSageMaker-ExecutionRole-20250520T171562',\n",
       "    'InputDataConfig': [{'DataSource': {'S3DataSource': {'S3DataType': 'S3Prefix',\n",
       "        'S3Uri': {'Get': \"Steps.forecast-Process.ProcessingOutputConfig.Outputs['train'].S3Output.S3Uri\"},\n",
       "        'S3DataDistributionType': 'FullyReplicated'}},\n",
       "      'ChannelName': 'train'}],\n",
       "    'HyperParameters': {'n_estimator': {'Std:Join': {'On': '',\n",
       "       'Values': [{'Get': 'Parameters.ModelNEstimator'}]}},\n",
       "     'sagemaker_submit_directory': '\"s3://rcs-pink-paper-sagemaker/PPP-Forecast-MLOPs/PPP-Forecast-MLOPs-Train/sourcedir.tar.gz\"',\n",
       "     'sagemaker_program': '\"train.py\"',\n",
       "     'sagemaker_container_log_level': '20',\n",
       "     'sagemaker_region': '\"ap-south-1\"'},\n",
       "    'DebugHookConfig': {'S3OutputPath': 's3://rcs-pink-paper-sagemaker/PPP-Forecast-MLOPs/ModelArtifacts',\n",
       "     'CollectionConfigurations': []},\n",
       "    'ProfilerConfig': {'S3OutputPath': 's3://rcs-pink-paper-sagemaker/PPP-Forecast-MLOPs/ModelArtifacts',\n",
       "     'DisableProfiler': False}}},\n",
       "  {'Name': 'forecast-Eval',\n",
       "   'Type': 'Processing',\n",
       "   'Arguments': {'ProcessingResources': {'ClusterConfig': {'InstanceType': {'Get': 'Parameters.ProcessingInstanceType'},\n",
       "      'InstanceCount': {'Get': 'Parameters.ProcessingInstanceCount'},\n",
       "      'VolumeSizeInGB': 30}},\n",
       "    'AppSpecification': {'ImageUri': '720646828776.dkr.ecr.ap-south-1.amazonaws.com/sagemaker-scikit-learn:1.2-1-cpu-py3',\n",
       "     'ContainerArguments': ['--test',\n",
       "      's3://rcs-pink-paper-sagemaker/rossmann-sales-forecasting/train/train.csv'],\n",
       "     'ContainerEntrypoint': ['python3',\n",
       "      '/opt/ml/processing/input/code/evaluation.py']},\n",
       "    'RoleArn': 'arn:aws:iam::565393061244:role/service-role/AmazonSageMaker-ExecutionRole-20250520T171562',\n",
       "    'ProcessingInputs': [{'InputName': 'input-1',\n",
       "      'AppManaged': False,\n",
       "      'S3Input': {'S3Uri': {'Get': 'Steps.forecast-Train.ModelArtifacts.S3ModelArtifacts'},\n",
       "       'LocalPath': '/opt/ml/processing/model',\n",
       "       'S3DataType': 'S3Prefix',\n",
       "       'S3InputMode': 'File',\n",
       "       'S3DataDistributionType': 'FullyReplicated',\n",
       "       'S3CompressionType': 'None'}},\n",
       "     {'InputName': 'code',\n",
       "      'AppManaged': False,\n",
       "      'S3Input': {'S3Uri': 's3://sagemaker-ap-south-1-565393061244/forecast-Eval-038c73efd7ac0719b8484addd537d39ded03218bd43a62bf283e036905b2728a/input/code/evaluation.py',\n",
       "       'LocalPath': '/opt/ml/processing/input/code',\n",
       "       'S3DataType': 'S3Prefix',\n",
       "       'S3InputMode': 'File',\n",
       "       'S3DataDistributionType': 'FullyReplicated',\n",
       "       'S3CompressionType': 'None'}}],\n",
       "    'ProcessingOutputConfig': {'Outputs': [{'OutputName': 'evaluation',\n",
       "       'AppManaged': False,\n",
       "       'S3Output': {'S3Uri': 's3://sagemaker-ap-south-1-565393061244/forecast-Eval-038c73efd7ac0719b8484addd537d39ded03218bd43a62bf283e036905b2728a/output/evaluation',\n",
       "        'LocalPath': '/opt/ml/processing/evaluation',\n",
       "        'S3UploadMode': 'EndOfJob'}}]}},\n",
       "   'PropertyFiles': [{'PropertyFileName': 'EvaluationReport',\n",
       "     'OutputName': 'evaluation',\n",
       "     'FilePath': 'evaluation.json'}]},\n",
       "  {'Name': 'forecast-ACC_Cond',\n",
       "   'Type': 'Condition',\n",
       "   'Arguments': {'Conditions': [{'Type': 'LessThanOrEqualTo',\n",
       "      'LeftValue': {'Get': 'Parameters.AccThreshold'},\n",
       "      'RightValue': {'Std:JsonGet': {'PropertyFile': {'Get': 'Steps.forecast-Eval.PropertyFiles.EvaluationReport'},\n",
       "        'Path': 'regression_metrics.r2.value'}}}],\n",
       "    'IfSteps': [{'Name': 'forecast-RegisterModel',\n",
       "      'Type': 'RegisterModel',\n",
       "      'Arguments': {'ModelPackageGroupName': 'forecastmodel',\n",
       "       'ModelMetrics': {'ModelQuality': {'Statistics': {'ContentType': 'application/json',\n",
       "          'S3Uri': 's3://sagemaker-ap-south-1-565393061244/forecast-Eval-038c73efd7ac0719b8484addd537d39ded03218bd43a62bf283e036905b2728a/output/evaluation/evaluation.json'}},\n",
       "        'Bias': {},\n",
       "        'Explainability': {}},\n",
       "       'InferenceSpecification': {'Containers': [{'Image': '720646828776.dkr.ecr.ap-south-1.amazonaws.com/sagemaker-scikit-learn:1.2-1-cpu-py3',\n",
       "          'Environment': {'SAGEMAKER_SUBMIT_DIRECTORY': 's3://rcs-pink-paper-sagemaker/PPP-Forecast-MLOPs/PPP-Forecast-MLOPs-Train/sourcedir.tar.gz',\n",
       "           'SAGEMAKER_PROGRAM': 'train.py',\n",
       "           'SAGEMAKER_CONTAINER_LOG_LEVEL': '20',\n",
       "           'SAGEMAKER_REGION': 'ap-south-1'},\n",
       "          'ModelDataUrl': {'Get': 'Steps.forecast-Train.ModelArtifacts.S3ModelArtifacts'}}],\n",
       "        'SupportedContentTypes': ['text/csv'],\n",
       "        'SupportedResponseMIMETypes': ['text/csv'],\n",
       "        'SupportedRealtimeInferenceInstanceTypes': ['ml.m4.2xlarge',\n",
       "         'ml.m4.4xlarge',\n",
       "         'ml.m5.large',\n",
       "         'ml.m5.xlarge',\n",
       "         'ml.m5.2xlarge',\n",
       "         'ml.m5.4xlarge',\n",
       "         'ml.c4.large',\n",
       "         'ml.c4.xlarge',\n",
       "         'ml.c4.2xlarge',\n",
       "         'ml.c4.4xlarge'],\n",
       "        'SupportedTransformInstanceTypes': ['ml.m5.xlarge']},\n",
       "       'ModelApprovalStatus': {'Get': 'Parameters.ModelApproveStatus'},\n",
       "       'SkipModelValidation': 'None'}}],\n",
       "    'ElseSteps': [{'Name': 'forecast-ACC_Fail',\n",
       "      'Type': 'Fail',\n",
       "      'Arguments': {'ErrorMessage': {'Std:Join': {'On': ' ',\n",
       "         'Values': ['Execution failed due to < Accuracy',\n",
       "          {'Get': 'Parameters.AccThreshold'}]}}}}]}}]}"
      ]
     },
     "execution_count": 74,
     "metadata": {},
     "output_type": "execute_result"
    }
   ],
   "source": [
    "definition = json.loads(pipeline.definition())\n",
    "definition"
   ]
  },
  {
   "cell_type": "code",
   "execution_count": 75,
   "id": "5971d3e6-88f4-4991-a3ff-e3b1167eb23d",
   "metadata": {},
   "outputs": [
    {
     "name": "stderr",
     "output_type": "stream",
     "text": [
      "WARNING:sagemaker.workflow.utilities:Popping out 'ProcessingJobName' from the pipeline definition by default since it will be overridden at pipeline execution time. Please utilize the PipelineDefinitionConfig to persist this field in the pipeline definition if desired.\n",
      "WARNING:sagemaker.workflow.utilities:The input argument instance_type of function (sagemaker.image_uris.get_training_image_uri) is a pipeline variable (<class 'sagemaker.workflow.parameters.ParameterString'>), which is interpreted in pipeline execution time only. As the function needs to evaluate the argument value in SDK compile time, the default_value of this Parameter object will be used to override it. Please make sure the default_value is valid.\n",
      "WARNING:sagemaker.workflow.utilities:Popping out 'TrainingJobName' from the pipeline definition by default since it will be overridden at pipeline execution time. Please utilize the PipelineDefinitionConfig to persist this field in the pipeline definition if desired.\n",
      "WARNING:sagemaker.workflow.utilities:Popping out 'ProcessingJobName' from the pipeline definition by default since it will be overridden at pipeline execution time. Please utilize the PipelineDefinitionConfig to persist this field in the pipeline definition if desired.\n",
      "WARNING:sagemaker.workflow._utils:Popping out 'CertifyForMarketplace' from the pipeline definition since it will be overridden in pipeline execution time.\n",
      "WARNING:sagemaker.workflow.utilities:Popping out 'ModelPackageName' from the pipeline definition by default since it will be overridden at pipeline execution time. Please utilize the PipelineDefinitionConfig to persist this field in the pipeline definition if desired.\n",
      "WARNING:sagemaker.workflow.utilities:Popping out 'ProcessingJobName' from the pipeline definition by default since it will be overridden at pipeline execution time. Please utilize the PipelineDefinitionConfig to persist this field in the pipeline definition if desired.\n",
      "WARNING:sagemaker.workflow.utilities:The input argument instance_type of function (sagemaker.image_uris.get_training_image_uri) is a pipeline variable (<class 'sagemaker.workflow.parameters.ParameterString'>), which is interpreted in pipeline execution time only. As the function needs to evaluate the argument value in SDK compile time, the default_value of this Parameter object will be used to override it. Please make sure the default_value is valid.\n",
      "WARNING:sagemaker.workflow.utilities:Popping out 'TrainingJobName' from the pipeline definition by default since it will be overridden at pipeline execution time. Please utilize the PipelineDefinitionConfig to persist this field in the pipeline definition if desired.\n",
      "WARNING:sagemaker.workflow.utilities:Popping out 'ProcessingJobName' from the pipeline definition by default since it will be overridden at pipeline execution time. Please utilize the PipelineDefinitionConfig to persist this field in the pipeline definition if desired.\n",
      "WARNING:sagemaker.workflow._utils:Popping out 'CertifyForMarketplace' from the pipeline definition since it will be overridden in pipeline execution time.\n",
      "WARNING:sagemaker.workflow.utilities:Popping out 'ModelPackageName' from the pipeline definition by default since it will be overridden at pipeline execution time. Please utilize the PipelineDefinitionConfig to persist this field in the pipeline definition if desired.\n"
     ]
    },
    {
     "data": {
      "text/plain": [
       "{'PipelineArn': 'arn:aws:sagemaker:ap-south-1:565393061244:pipeline/PPP-Forecast-Pipeline',\n",
       " 'ResponseMetadata': {'RequestId': 'e4550d86-eb1f-4153-acf9-3ceae0a4212b',\n",
       "  'HTTPStatusCode': 200,\n",
       "  'HTTPHeaders': {'x-amzn-requestid': 'e4550d86-eb1f-4153-acf9-3ceae0a4212b',\n",
       "   'content-type': 'application/x-amz-json-1.1',\n",
       "   'content-length': '90',\n",
       "   'date': 'Fri, 30 May 2025 06:53:53 GMT'},\n",
       "  'RetryAttempts': 0}}"
      ]
     },
     "execution_count": 75,
     "metadata": {},
     "output_type": "execute_result"
    }
   ],
   "source": [
    "pipeline.upsert(role)"
   ]
  },
  {
   "cell_type": "code",
   "execution_count": 76,
   "id": "26e0848e-4873-4e91-98bb-1d0677057ba3",
   "metadata": {},
   "outputs": [],
   "source": [
    "execution = pipeline.start()"
   ]
  },
  {
   "cell_type": "code",
   "execution_count": null,
   "id": "f84f4b66-fa50-4ca0-95aa-0a11ba08fa1b",
   "metadata": {},
   "outputs": [],
   "source": []
  },
  {
   "cell_type": "code",
   "execution_count": null,
   "id": "e5508432-a6b3-46a1-b053-cdb35566624f",
   "metadata": {},
   "outputs": [],
   "source": []
  }
 ],
 "metadata": {
  "kernelspec": {
   "display_name": "base",
   "language": "python",
   "name": "python3"
  },
  "language_info": {
   "codemirror_mode": {
    "name": "ipython",
    "version": 3
   },
   "file_extension": ".py",
   "mimetype": "text/x-python",
   "name": "python",
   "nbconvert_exporter": "python",
   "pygments_lexer": "ipython3",
   "version": "3.12.4"
  }
 },
 "nbformat": 4,
 "nbformat_minor": 5
}
